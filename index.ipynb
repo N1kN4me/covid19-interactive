{
 "cells": [
  {
   "cell_type": "markdown",
   "metadata": {},
   "source": [
    "# COVID-19 CASES COMPARISON: LOGARITHMIC VS ACTUAL SCALE\n",
    "This Jupyter Notebook visualizes the evolution of COVID-19 cases across different countries from 2020 to 2023. \n",
    "We use both logarithmic and actual scales to compare case growth."
   ]
  },
  {
   "cell_type": "code",
   "execution_count": null,
   "metadata": {},
   "outputs": [
    {
     "name": "stdout",
     "output_type": "stream",
     "text": [
      "Requirement already satisfied: pandas in /opt/anaconda3/lib/python3.11/site-packages (2.1.4)\n",
      "Requirement already satisfied: plotly in /opt/anaconda3/lib/python3.11/site-packages (5.9.0)\n",
      "Requirement already satisfied: numpy in /opt/anaconda3/lib/python3.11/site-packages (1.26.4)\n",
      "Requirement already satisfied: python-dateutil>=2.8.2 in /opt/anaconda3/lib/python3.11/site-packages (from pandas) (2.8.2)\n",
      "Requirement already satisfied: pytz>=2020.1 in /opt/anaconda3/lib/python3.11/site-packages (from pandas) (2023.3.post1)\n",
      "Requirement already satisfied: tzdata>=2022.1 in /opt/anaconda3/lib/python3.11/site-packages (from pandas) (2023.3)\n",
      "Requirement already satisfied: tenacity>=6.2.0 in /opt/anaconda3/lib/python3.11/site-packages (from plotly) (8.2.2)\n",
      "Requirement already satisfied: six>=1.5 in /opt/anaconda3/lib/python3.11/site-packages (from python-dateutil>=2.8.2->pandas) (1.16.0)\n"
     ]
    }
   ],
   "source": [
    "!pip install pandas \n",
    "!pip install plotly \n",
    "!pip install numpy"
   ]
  },
  {
   "cell_type": "code",
   "execution_count": null,
   "metadata": {},
   "outputs": [],
   "source": [
    "import pandas as pd\n",
    "import json\n",
    "import plotly.express as px\n",
    "import numpy as np\n",
    "import plotly.io as pio\n",
    "from plotly.subplots import make_subplots"
   ]
  },
  {
   "cell_type": "code",
   "execution_count": null,
   "metadata": {},
   "outputs": [],
   "source": [
    "geojson_path = 'https://raw.githubusercontent.com/N1kN4me/covid19-interactive/dcee83fa6e74c64f694f9acfef49f858ca566ece/countries.geojson'\n",
    "csv_path = 'https://raw.githubusercontent.com/N1kN4me/covid19-interactive/dcee83fa6e74c64f694f9acfef49f858ca566ece/covid19_dataset_merged.csv'\n",
    "\n",
    "# Load GeoJSON and CSV Data\n",
    "geojson_data = pd.read_json(geojson_path)\n",
    "covid_data = pd.read_csv(csv_path)\n",
    "\n",
    "# Group by country and sum across dates\n",
    "covid_grouped = covid_data.groupby('Country/Region').sum(numeric_only=True)\n",
    "date_columns = [col for col in covid_grouped.columns if '/' in col or '-' in col]\n",
    "covid_grouped = covid_grouped[date_columns].transpose()\n",
    "covid_grouped.index = pd.to_datetime(covid_grouped.index, errors='coerce').dropna().strftime('%Y-%m-%d')\n",
    "covid_grouped.reset_index(inplace=True)\n",
    "\n",
    "# Transform to long format\n",
    "covid_transposed = covid_grouped.melt(id_vars=['index'], var_name='Country', value_name='Cases')\n",
    "covid_transposed.rename(columns={'index': 'Date'}, inplace=True)\n",
    "\n",
    "# Apply logarithmic transformation to Cases\n",
    "covid_transposed['Log_Cases'] = np.log1p(covid_transposed['Cases'])  # log(Cases + 1) to avoid log(0)\n",
    "\n",
    "max_cases = covid_transposed['Cases'].max()\n",
    "log_max = covid_transposed['Log_Cases'].max()\n",
    "log_colors = [\n",
    "    \"#ffffcc\", \"#fff8bb\", \"#fff0a9\", \"#fee997\", \"#fee186\", \"#fed875\", \"#feca65\", \"#feba54\",\n",
    "    \"#fdaa48\", \"#fd9b42\", \"#fc8c3b\", \"#fc7434\", \"#fc5a2d\", \"#f64327\", \"#ec2d21\", \"#e2191c\",\n",
    "    \"#d30f20\", \"#c40424\", \"#af0026\", \"#960026\", \"#800026\"\n",
    "]\n",
    "\n",
    "#Log Scale Map\n",
    "fig1 = px.choropleth(\n",
    "    covid_transposed,\n",
    "    geojson=geojson_data,\n",
    "    locations='Country',\n",
    "    featureidkey='properties.name',\n",
    "    color='Log_Cases',\n",
    "    animation_frame='Date',\n",
    "    color_continuous_scale=log_colors,\n",
    "    range_color=(0, log_max),\n",
    "    title='COVID-19 Cases Evolution (Logarithmic Scale) 2020 - 2023',\n",
    "    labels={'Log_Cases': 'Logarithmic Cases (log1p)'}\n",
    ")\n",
    "fig1.update_traces(marker_line_width=1, marker_line_color='black')\n",
    "fig1.update_geos(fitbounds=\"locations\", visible=True, showcountries=True)\n",
    "\n",
    "# Show Logarithmic Scale Map\n",
    "fig1.show()\n",
    "\n",
    "#Actual Scale Map\n",
    "fig2 = px.choropleth(\n",
    "    covid_transposed,\n",
    "    geojson=geojson_data,\n",
    "    locations='Country',\n",
    "    featureidkey='properties.name',\n",
    "    color='Cases',\n",
    "    animation_frame='Date',\n",
    "    color_continuous_scale=log_colors,\n",
    "    range_color=(0, max_cases),\n",
    "    title='COVID-19 Cases Evolution (Actual Scale) 2020 - 2023',\n",
    "    labels={'Cases': 'Total Cases'}\n",
    ")\n",
    "fig2.update_traces(marker_line_width=1, marker_line_color='black')\n",
    "fig2.update_geos(fitbounds=\"locations\", visible=True, showcountries=True)\n",
    "\n",
    "# Show Actual Scale Map\n",
    "fig2.show()"
   ]
  }
 ],
 "metadata": {
  "kernelspec": {
   "display_name": "Python 3",
   "language": "python",
   "name": "python3"
  },
  "language_info": {
   "codemirror_mode": {
    "name": "ipython",
    "version": 3
   },
   "file_extension": ".py",
   "mimetype": "text/x-python",
   "name": "python",
   "nbconvert_exporter": "python",
   "pygments_lexer": "ipython3",
   "version": "3.12.2"
  }
 },
 "nbformat": 4,
 "nbformat_minor": 2
}
